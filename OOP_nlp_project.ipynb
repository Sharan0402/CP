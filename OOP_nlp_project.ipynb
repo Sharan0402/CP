{
  "cells": [
    {
      "cell_type": "markdown",
      "metadata": {
        "id": "view-in-github",
        "colab_type": "text"
      },
      "source": [
        "<a href=\"https://colab.research.google.com/github/Sharan0402/CP/blob/master/OOP_nlp_project.ipynb\" target=\"_parent\"><img src=\"https://colab.research.google.com/assets/colab-badge.svg\" alt=\"Open In Colab\"/></a>"
      ]
    },
    {
      "cell_type": "code",
      "execution_count": null,
      "metadata": {
        "colab": {
          "base_uri": "https://localhost:8080/"
        },
        "id": "F1lYy_SXeKdb",
        "outputId": "a0d0ef7f-4034-4649-9ddf-e1258264bb6c"
      },
      "outputs": [
        {
          "name": "stdout",
          "output_type": "stream",
          "text": [
            "Collecting nlpcloud\n",
            "  Downloading nlpcloud-1.1.45-py3-none-any.whl (3.9 kB)\n",
            "Requirement already satisfied: requests in /usr/local/lib/python3.10/dist-packages (from nlpcloud) (2.31.0)\n",
            "Requirement already satisfied: charset-normalizer<4,>=2 in /usr/local/lib/python3.10/dist-packages (from requests->nlpcloud) (3.3.2)\n",
            "Requirement already satisfied: idna<4,>=2.5 in /usr/local/lib/python3.10/dist-packages (from requests->nlpcloud) (3.6)\n",
            "Requirement already satisfied: urllib3<3,>=1.21.1 in /usr/local/lib/python3.10/dist-packages (from requests->nlpcloud) (2.0.7)\n",
            "Requirement already satisfied: certifi>=2017.4.17 in /usr/local/lib/python3.10/dist-packages (from requests->nlpcloud) (2023.11.17)\n",
            "Installing collected packages: nlpcloud\n",
            "Successfully installed nlpcloud-1.1.45\n"
          ]
        }
      ],
      "source": [
        "!pip install nlpcloud"
      ]
    },
    {
      "cell_type": "code",
      "execution_count": null,
      "metadata": {
        "colab": {
          "background_save": true,
          "base_uri": "https://localhost:8080/"
        },
        "id": "2CsHr41leOWh",
        "outputId": "be8f2c01-5d20-449b-8d60-a86e7a0bd1e3"
      },
      "outputs": [
        {
          "name": "stdout",
          "output_type": "stream",
          "text": [
            "Registration Complete. Now login\n",
            "{'s': ['s', 's']}\n",
            "Login Successful!\n",
            "{'scored_labels': [{'label': 'joy', 'score': 0.9953998923301697}, {'label': 'love', 'score': 0.001705419854260981}, {'label': 'sadness', 'score': 0.0014070391189306974}, {'label': 'surprise', 'score': 0.0006752685876563191}, {'label': 'anger', 'score': 0.0005052282940596342}, {'label': 'fear', 'score': 0.000307149050058797}]}\n"
          ]
        }
      ],
      "source": [
        "import nlpcloud\n",
        "\n",
        "\n",
        "class NLPApp:\n",
        "  def __init__(self):\n",
        "    self.__database = {} # { email : [name, password]}\n",
        "    self.__first_menu()\n",
        "\n",
        "  def __first_menu(self):\n",
        "\n",
        "    first_input= input(\"\"\"\n",
        "    Hi! how would you like to proceed?\n",
        "    1. Register\n",
        "    2. Login\n",
        "    3. Exit\n",
        "    \"\"\"\n",
        "    )\n",
        "    if first_input == '1':\n",
        "      self.__register()\n",
        "    elif first_input == '2':\n",
        "      self.__login()\n",
        "    else:\n",
        "      exit()\n",
        "\n",
        "\n",
        "  def __register(self):\n",
        "    name = input('Enter name ')\n",
        "    email = input('Enter email')\n",
        "    password = input('Enter Password')\n",
        "\n",
        "    if email in self.__database:\n",
        "      print('Email already exists!')\n",
        "    else:\n",
        "      self.__database[email]= [name,password]\n",
        "      print('Registration Complete. Now login')\n",
        "      print(self.__database)\n",
        "      self.__first_menu()\n",
        "\n",
        "  def __login(self):\n",
        "    email = input('Enter email ')\n",
        "    password = input('Enter password ')\n",
        "\n",
        "    if email in self.__database:\n",
        "      if self.__database[email][1] == password:\n",
        "        print('Login Successful!')\n",
        "        self.__second_menu()\n",
        "      else:\n",
        "        print(\"Wrong Password! Try Again!\")\n",
        "        self.__login()\n",
        "\n",
        "    else:\n",
        "      print(\"This email is not registered \")\n",
        "      self.__first_menu()\n",
        "\n",
        "  def __second_menu(self):\n",
        "    second_input= input(\"\"\"\n",
        "    Hi! how would you like to proceed?\n",
        "    1. NER\n",
        "    2. Language Detection\n",
        "    3. Sentiment Analysis\n",
        "    4. Logout\n",
        "    \"\"\"\n",
        "    )\n",
        "    if second_input == '1':\n",
        "      self.__ner()\n",
        "\n",
        "    elif second_input == '2':\n",
        "      self.__language_detection()\n",
        "\n",
        "    elif second_input == '3':\n",
        "      self.__sentiment_analysis()\n",
        "\n",
        "    else:\n",
        "      exit()\n",
        "\n",
        "  def __ner(self):\n",
        "    para = input('Enter the paragraph: ')\n",
        "    search_term = input('What would you like to search? ')\n",
        "    client = nlpcloud.Client(\"finetuned-llama-2-70b\", \"a4b711219f588deb705f203cfad8c45ca734894e\", gpu=True)\n",
        "    response = client.entities(para,searched_entity=search_term)\n",
        "    print(response)\n",
        "    self.__second_menu()\n",
        "\n",
        "  def __language_detection(self):\n",
        "    para = input(\"Enter the paragraph\")\n",
        "    client = nlpcloud.Client(\"python-langdetect\", \"a4b711219f588deb705f203cfad8c45ca734894e\", gpu=False)\n",
        "    response = client.langdetection(para)\n",
        "    print(response)\n",
        "    self.__second_menu()\n",
        "\n",
        "  def __sentiment_analysis(self):\n",
        "    para = input(\"Enter the paragraph\")\n",
        "    client = nlpcloud.Client(\"distilbert-base-uncased-emotion\", \"a4b711219f588deb705f203cfad8c45ca734894e\", gpu=False)\n",
        "    response = client.sentiment(para)\n",
        "    print(response)\n",
        "    self.__second_menu()\n",
        "\n",
        "\n",
        "\n",
        "\n",
        "\n",
        "\n",
        "obj = NLPApp()"
      ]
    },
    {
      "cell_type": "code",
      "execution_count": null,
      "metadata": {
        "id": "Y61NG2MggA3H"
      },
      "outputs": [],
      "source": []
    },
    {
      "cell_type": "code",
      "execution_count": null,
      "metadata": {
        "id": "RZS8G0JOsL9X"
      },
      "outputs": [],
      "source": []
    }
  ],
  "metadata": {
    "colab": {
      "provenance": [],
      "authorship_tag": "ABX9TyNESIsDXfk3xH8ot+3CdzhC",
      "include_colab_link": true
    },
    "kernelspec": {
      "display_name": "Python 3",
      "name": "python3"
    },
    "language_info": {
      "name": "python"
    }
  },
  "nbformat": 4,
  "nbformat_minor": 0
}